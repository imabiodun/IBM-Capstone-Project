{
 "cells": [
  {
   "cell_type": "markdown",
   "id": "cb21892f-268f-4e76-beb0-09cfca6762be",
   "metadata": {},
   "source": [
    "# SpaceX Dashboard "
   ]
  },
  {
   "cell_type": "code",
   "execution_count": 1,
   "id": "fa2e046a-eba4-4a01-9af8-6fc65acedc8f",
   "metadata": {},
   "outputs": [],
   "source": [
    "## Importing Libraries\n",
    "import pandas as pd\n",
    "import numpy as np\n",
    "import plotly.express as px\n",
    "import plotly.graph_objects as go\n",
    "from dash import Input,Output,callback,dcc,html, Dash"
   ]
  },
  {
   "cell_type": "code",
   "execution_count": 2,
   "id": "fa9085d1-b3ab-40f6-812c-54cc72745596",
   "metadata": {},
   "outputs": [],
   "source": [
    "spaceX_df=pd.read_csv(\"spacex_launch_dash.csv\")"
   ]
  },
  {
   "cell_type": "code",
   "execution_count": 3,
   "id": "ff1b8751-7520-4bea-86f5-f02eae27d9fa",
   "metadata": {
    "scrolled": true
   },
   "outputs": [
    {
     "name": "stdout",
     "output_type": "stream",
     "text": [
      "<class 'pandas.core.frame.DataFrame'>\n",
      "RangeIndex: 56 entries, 0 to 55\n",
      "Data columns (total 7 columns):\n",
      " #   Column                    Non-Null Count  Dtype  \n",
      "---  ------                    --------------  -----  \n",
      " 0   Unnamed: 0                56 non-null     int64  \n",
      " 1   Flight Number             56 non-null     int64  \n",
      " 2   Launch Site               56 non-null     object \n",
      " 3   class                     56 non-null     int64  \n",
      " 4   Payload Mass (kg)         56 non-null     float64\n",
      " 5   Booster Version           56 non-null     object \n",
      " 6   Booster Version Category  56 non-null     object \n",
      "dtypes: float64(1), int64(3), object(3)\n",
      "memory usage: 3.2+ KB\n"
     ]
    }
   ],
   "source": [
    "spaceX_df.info()"
   ]
  },
  {
   "cell_type": "code",
   "execution_count": 4,
   "id": "aeeaa59d-86d6-444d-a050-910d935bda21",
   "metadata": {},
   "outputs": [],
   "source": [
    "#dropping unwanted columns\n",
    "spaceX_df.drop(['Unnamed: 0','Flight Number'],axis=1,inplace=True)"
   ]
  },
  {
   "cell_type": "code",
   "execution_count": 5,
   "id": "5ecad7ff-3352-43d5-85d9-2b0c878cdbae",
   "metadata": {},
   "outputs": [],
   "source": [
    "# setting the options variable for th dashboard\n",
    "options_ls=[{'label':a,'value':a} for a in spaceX_df['Launch Site'].unique()]\n",
    "options_ls.append({'label':'All sites','value':'All'})\n",
    "spaceX_df['Outcome']=spaceX_df['class'].apply(lambda x:'Successful' if x==1 else 'Failed')\n",
    "mapping_={0:'Failed',1:'Successful'}\n",
    "options_outcome=[{'label':mapping_[a],'value':a} for a in spaceX_df[\"class\"].unique()]"
   ]
  },
  {
   "cell_type": "code",
   "execution_count": 6,
   "id": "dec628e8-3a9c-44d5-991f-ca34051fdc2b",
   "metadata": {},
   "outputs": [],
   "source": [
    "external_stylesheets_ = ['https://codepen.io/chriddyp/pen/bWLwgP.css']\n",
    "# create a dashboard instance\n",
    "app=Dash(__name__,external_stylesheets=external_stylesheets_)\n",
    "\n",
    "\n",
    "app.layout=html.Div(\n",
    "    # Dashboard Title\n",
    "    children=[html.H1('SpaceX Launch Records Dashboard',style={'textAlign':'center','color':'#000500','font-size':'40px'}),\n",
    "    # Dropdown for Launch Site\n",
    " html.Div([html.Div(dcc.Dropdown(id='all_site_dropdown',options=options_ls,value='All',placeholder='Launch Site',searchable=True,style={'border-radius':'10px'}),style={\"width\":\"25%\"}),html.Br(),\n",
    "    # Dropdown for Outcome of Launch\n",
    "           \n",
    "           html.Div(dcc.Dropdown(id='outcome', options=options_outcome,value=1,placeholder='Outcome', searchable=True,style={'border-radius':'10px'}),style={\"width\":\"25%\"}),],style={'display':'grid',}),\n",
    "    #create graph components\n",
    "html.Div([html.Div(dcc.Graph(id='pie_chart'),style={'border-color':'black'}),html.Div(dcc.Graph(id='success_payload_scatter_chart'),style={'border-color':'black'})],style={'display':\"flex\",'border': '5px red',\n",
    "    'border-color': '#b91414','justify-content': 'space-between'}),\n",
    "html.Div([html.P('Payload Mass (kg):',style={'color':'white'}),dcc.RangeSlider(id='payload_slider',\n",
    "                min=0, max=10000, step=10,\n",
    "                marks={0: {'label':'0','style':{'color':'blue'}},10000: {'label':'10000','style':{'color':'green'}}},\n",
    "                value=[spaceX_df['Payload Mass (kg)'].min(),spaceX_df['Payload Mass (kg)'].max() ],tooltip={'placement':'bottom',\"always_visible\":True}),\n",
    "html.Br()]),\n",
    "])                             \n"
   ]
  },
  {
   "cell_type": "code",
   "execution_count": 7,
   "id": "c1175902-060f-484c-8896-1a62073687a1",
   "metadata": {
    "scrolled": true
   },
   "outputs": [
    {
     "data": {
      "text/html": [
       "\n",
       "        <iframe\n",
       "            width=\"100%\"\n",
       "            height=\"650\"\n",
       "            src=\"http://127.0.0.2:8081/\"\n",
       "            frameborder=\"0\"\n",
       "            allowfullscreen\n",
       "            \n",
       "        ></iframe>\n",
       "        "
      ],
      "text/plain": [
       "<IPython.lib.display.IFrame at 0xcb0cfa0>"
      ]
     },
     "metadata": {},
     "output_type": "display_data"
    }
   ],
   "source": [
    "# Function decorator to specify function input and output\n",
    "@app.callback(Output(component_id='pie_chart', component_property='figure'),\n",
    "              [Input(component_id='all_site_dropdown', component_property='value'),\n",
    "               Input(component_id='outcome',component_property='value')])\n",
    "# Pie Graph Callback\n",
    "def get_pie_chart(entered_site,outcome_):\n",
    "    mapping={1:'Successful',0:'Failed'}\n",
    "    filtered_df = spaceX_df\n",
    "    if entered_site == 'All':\n",
    "        if outcome_ == 1:\n",
    "            # print('All Successful')\n",
    "            fig=px.pie(spaceX_df,names='Launch Site', values='class',hole=.9,height=300,width=500,title=f'The Ratio of {entered_site} Launches which are Successful')\n",
    "            return fig\n",
    "        else:\n",
    "            # print('All Failed')\n",
    "            __=spaceX_df[spaceX_df['class']==outcome_].groupby(['Launch Site','Outcome','class']).size().reset_index(name='counts')         \n",
    "            fig=px.pie(__,names='Launch Site', values='counts',hole=.9,height=300,width=500,title=f'The Ratio of {entered_site} Launches which Failed')\n",
    "            return fig\n",
    "    else:\n",
    "        # if outcome_=='Successful':\n",
    "        ___=spaceX_df[spaceX_df['Launch Site']==entered_site].groupby(['Launch Site','Outcome','class']).size().reset_index(name='counts')   \n",
    "            # print(___)\n",
    "        das=px.pie(___,names='Outcome',values='counts',hole=.9,height=300,width=500,title=f'The Ratio of {entered_site} Successful and Failed Launches ')\n",
    "        das.update_layout()\n",
    "        return das\n",
    "# Scatterplot Graph Callback\n",
    "@app.callback(Output(component_id='success_payload_scatter_chart',component_property='figure'),\n",
    "  [Input(component_id='payload_slider', component_property='value'),Input(component_id='all_site_dropdown',component_property='value'), Input(component_id='outcome',component_property='value')])\n",
    "def payloader_slide(mass,entered_site,outcome_):\n",
    "    mapping={1:'Successful',0:'Failed'}\n",
    "    if entered_site=='All':\n",
    "        if outcome_==1:\n",
    "            payL=spaceX_df[(spaceX_df['Payload Mass (kg)'] >= mass[0]) & (spaceX_df['Payload Mass (kg)']<= mass[1]) & (spaceX_df['class']==outcome_)]\n",
    "            # print(\"1\")  \n",
    "            fig=px.scatter(payL,x='Payload Mass (kg)',y='Launch Site',color='Booster Version Category',height=300,width=700,size='Payload Mass (kg)',title=f'ScatterPlot of All {mapping.get(outcome_)} PayLoad Mass')\n",
    "            return fig\n",
    "        else:\n",
    "            payL=spaceX_df[(spaceX_df['Payload Mass (kg)'] >= mass[0]) & (spaceX_df['Payload Mass (kg)']<= mass[1]) &(spaceX_df['class']==outcome_)]\n",
    "            # print('2')\n",
    "            fig=px.scatter(payL,x='Payload Mass (kg)',y='Launch Site',color='Booster Version Category',height=300,width=700,size='Payload Mass (kg)', title=f'ScatterPlot of All {mapping.get(outcome_)} PayLoad Mass')\n",
    "            return fig\n",
    "            # print(f)\n",
    "    else:\n",
    "        payL=spaceX_df[(spaceX_df['Payload Mass (kg)'] >= mass[0]) & (spaceX_df['Payload Mass (kg)']<= mass[1])& (spaceX_df['Launch Site']==entered_site) & (spaceX_df['class']==outcome_)]\n",
    "        # print('3')\n",
    "        fig=px.scatter(payL,x='Payload Mass (kg)',y='Launch Site', color='Booster Version Category',height=300,width=700,size='Payload Mass (kg)', title=f'ScatterPlot  of {mapping.get(outcome_)} {entered_site} PayLoad Mass (kg)')\n",
    "        return fig\n",
    "    \n",
    "if __name__=='__main__':\n",
    "    # app.run_server()\n",
    "    app.run_server(port=8081,host= '127.0.0.2',debug=True)"
   ]
  },
  {
   "cell_type": "code",
   "execution_count": 8,
   "id": "a9b71662-d90d-4f9b-aeb8-d3b7395c1e31",
   "metadata": {
    "scrolled": true
   },
   "outputs": [
    {
     "data": {
      "text/html": [
       "From the Dashboard above, it can be deducted that:\n",
       "<ol>\n",
       "<li><b>KSC LC-39A</b> has the highest amount of <i>succesful lauches<i> amasing up to <b>42%</b> of the succesful launches </li>\n",
       "<li><b>CCAFS SLC-40</b> has the lowest amount of </>successful launches</i> with just <b>13%</b> </li>\n",
       "<li>The <i>highest launch success rate</i> happend with <b>VAFB SLC-4E</b> having <b>9600 kg</b> Payload Mass </li>\n",
       "<li>The <i>lowest launch success rate</i> happend with <b>CCAFS SLC-40</b> having <b>362 kg</b> Payload Mass </li>\n",
       "<li><b>The F9 Booster Version</b> with the highest success rate is <b>FT</b></li>\n",
       "</ol>\n",
       "<style>\n",
       " b{\n",
       "     font-weight:1500;\n",
       "},\n",
       "li{\n",
       "    background-color:lightblue;\n",
       "    font-family:verdana;\n",
       "}\n",
       "</style>\n"
      ],
      "text/plain": [
       "<IPython.core.display.HTML object>"
      ]
     },
     "metadata": {},
     "output_type": "display_data"
    }
   ],
   "source": [
    "%%html\n",
    "From the Dashboard above, it can be deducted that:\n",
    "<ol>\n",
    "<li><b>KSC LC-39A</b> has the highest amount of <i>succesful lauches<i> amasing up to <b>42%</b> of the succesful launches </li>\n",
    "<li><b>CCAFS SLC-40</b> has the lowest amount of </>successful launches</i> with just <b>13%</b> </li>\n",
    "<li>The <i>highest launch success rate</i> happend with <b>VAFB SLC-4E</b> having <b>9600 kg</b> Payload Mass </li>\n",
    "<li>The <i>lowest launch success rate</i> happend with <b>CCAFS SLC-40</b> having <b>362 kg</b> Payload Mass </li>\n",
    "<li><b>The F9 Booster Version</b> with the highest success rate is <b>FT</b></li>\n",
    "</ol>\n",
    "<style>\n",
    " b{\n",
    "     font-weight:1500;\n",
    "},\n",
    "li{\n",
    "    background-color:lightblue;\n",
    "    font-family:verdana;\n",
    "}\n",
    "</style>"
   ]
  }
 ],
 "metadata": {
  "kernelspec": {
   "display_name": "Python 3 (ipykernel)",
   "language": "python",
   "name": "python3"
  },
  "language_info": {
   "codemirror_mode": {
    "name": "ipython",
    "version": 3
   },
   "file_extension": ".py",
   "mimetype": "text/x-python",
   "name": "python",
   "nbconvert_exporter": "python",
   "pygments_lexer": "ipython3",
   "version": "3.8.6"
  }
 },
 "nbformat": 4,
 "nbformat_minor": 5
}
